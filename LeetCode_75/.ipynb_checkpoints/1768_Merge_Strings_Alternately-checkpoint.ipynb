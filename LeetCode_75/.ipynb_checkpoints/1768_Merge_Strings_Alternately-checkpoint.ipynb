{
 "cells": [
  {
   "cell_type": "code",
   "execution_count": 20,
   "id": "6322c6a4",
   "metadata": {},
   "outputs": [
    {
     "name": "stdout",
     "output_type": "stream",
     "text": [
      "adbecf\n"
     ]
    }
   ],
   "source": [
    "class Solution:\n",
    "    def mergeAlternately(self, word1: str, word2: str) -> str:\n",
    "        \n",
    "        w1 = len(word1)\n",
    "        w2 = len(word2)\n",
    "        \n",
    "        i=0\n",
    "        j=0\n",
    "        \n",
    "        result=\"\"\n",
    "        \n",
    "        while i<w1 or j<w2:\n",
    "            if i<w1:\n",
    "                result = result + word1[i]\n",
    "                i = i + 1\n",
    "            if j<w2:\n",
    "                result = result + word2[j]\n",
    "                j = j + 1\n",
    "        return result\n",
    "\n",
    "    \n",
    "s1 = Solution()\n",
    "\n",
    "# Call the mergeAlternately function with two strings as arguments\n",
    "word1 = \"abc\"\n",
    "word2 = \"def\"\n",
    "merged = s1.mergeAlternately(word1, word2)\n",
    "\n",
    "# Print the result\n",
    "print(merged)"
   ]
  }
 ],
 "metadata": {
  "kernelspec": {
   "display_name": "Python 3 (ipykernel)",
   "language": "python",
   "name": "python3"
  },
  "language_info": {
   "codemirror_mode": {
    "name": "ipython",
    "version": 3
   },
   "file_extension": ".py",
   "mimetype": "text/x-python",
   "name": "python",
   "nbconvert_exporter": "python",
   "pygments_lexer": "ipython3",
   "version": "3.11.4"
  }
 },
 "nbformat": 4,
 "nbformat_minor": 5
}
