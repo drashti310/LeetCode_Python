{
 "cells": [
  {
   "cell_type": "code",
   "execution_count": null,
   "id": "6033a484",
   "metadata": {},
   "outputs": [],
   "source": [
    "class Solution:\n",
    "    def productExceptSelf(self, nums: List[int]) -> List[int]:\n",
    "        p=1\n",
    "        zeroCount=0\n",
    "        temp=1\n",
    "        for i in nums:\n",
    "            if i==0 and zeroCount==0:\n",
    "                zeroCount=1\n",
    "            else:\n",
    "                temp*=i\n",
    "            p*=i\n",
    "\n",
    "        answer=[]\n",
    "        for i in nums:\n",
    "            if i==0:\n",
    "                answer.append(temp)\n",
    "            else:\n",
    "                answer.append(int(p/i))\n",
    "        return answer\n",
    "    \n",
    "    \n",
    "# Create an instance of Solution\n",
    "solution_instance = Solution()\n",
    "\n",
    "# Define your input list\n",
    "nums = [1, 2, 3, 4]\n",
    "\n",
    "# Call the productExceptSelf method with the input list\n",
    "result = solution_instance.productExceptSelf(nums)\n",
    "\n",
    "# Print the result\n",
    "print(result)"
   ]
  },
  {
   "cell_type": "code",
   "execution_count": null,
   "id": "6827c138",
   "metadata": {},
   "outputs": [],
   "source": []
  }
 ],
 "metadata": {
  "kernelspec": {
   "display_name": "Python 3 (ipykernel)",
   "language": "python",
   "name": "python3"
  },
  "language_info": {
   "codemirror_mode": {
    "name": "ipython",
    "version": 3
   },
   "file_extension": ".py",
   "mimetype": "text/x-python",
   "name": "python",
   "nbconvert_exporter": "python",
   "pygments_lexer": "ipython3",
   "version": "3.11.4"
  }
 },
 "nbformat": 4,
 "nbformat_minor": 5
}
