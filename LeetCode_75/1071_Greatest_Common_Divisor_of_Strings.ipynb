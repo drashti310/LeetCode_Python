{
 "cells": [
  {
   "cell_type": "code",
   "execution_count": 11,
   "id": "50c82118",
   "metadata": {},
   "outputs": [
    {
     "name": "stdout",
     "output_type": "stream",
     "text": [
      "ABAABA\n"
     ]
    }
   ],
   "source": [
    "class Solution:\n",
    "    def gcdOfStrings(self, str1: str, str2: str) -> str:\n",
    "\n",
    "        if len(str1) > len(str2):\n",
    "            temp=str1\n",
    "            str1=str2\n",
    "            str2=temp\n",
    "        \n",
    "        if str2.startswith(str1): \n",
    "            if len(str2) == len(str1):\n",
    "                return str1\n",
    "            else:\n",
    "                s = str2[len(str1):]\n",
    "                \n",
    "        else:\n",
    "            return \"\"\n",
    "            \n",
    "s1=Solution()\n",
    "gcd= s1.gcdOfStrings(\"ABAABAABAABA\",\"ABAABA\")\n",
    "print(gcd)\n"
   ]
  },
  {
   "cell_type": "code",
   "execution_count": null,
   "id": "fedf7374",
   "metadata": {},
   "outputs": [],
   "source": []
  },
  {
   "cell_type": "code",
   "execution_count": null,
   "id": "b93ee1a7",
   "metadata": {},
   "outputs": [],
   "source": []
  },
  {
   "cell_type": "code",
   "execution_count": null,
   "id": "f4c1ec2c",
   "metadata": {},
   "outputs": [],
   "source": []
  },
  {
   "cell_type": "code",
   "execution_count": null,
   "id": "fc4979eb",
   "metadata": {},
   "outputs": [],
   "source": []
  },
  {
   "cell_type": "code",
   "execution_count": null,
   "id": "5e42fb45",
   "metadata": {},
   "outputs": [],
   "source": []
  }
 ],
 "metadata": {
  "kernelspec": {
   "display_name": "Python 3 (ipykernel)",
   "language": "python",
   "name": "python3"
  },
  "language_info": {
   "codemirror_mode": {
    "name": "ipython",
    "version": 3
   },
   "file_extension": ".py",
   "mimetype": "text/x-python",
   "name": "python",
   "nbconvert_exporter": "python",
   "pygments_lexer": "ipython3",
   "version": "3.11.4"
  }
 },
 "nbformat": 4,
 "nbformat_minor": 5
}
