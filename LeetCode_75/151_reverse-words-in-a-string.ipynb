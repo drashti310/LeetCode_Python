{
 "cells": [
  {
   "cell_type": "code",
   "execution_count": 1,
   "id": "816f7c76",
   "metadata": {},
   "outputs": [
    {
     "name": "stdout",
     "output_type": "stream",
     "text": [
      "world Hello\n"
     ]
    }
   ],
   "source": [
    "class Solution:\n",
    "    def reverseWords(self, s: str) -> str:\n",
    "        array = s.split()\n",
    "        return \" \".join(reversed(array))\n",
    "\n",
    "# Create an instance of the Solution class\n",
    "solution_instance = Solution()\n",
    "\n",
    "# Call the reverseWords method on the instance\n",
    "result = solution_instance.reverseWords(\"Hello world\")\n",
    "\n",
    "# Print the result\n",
    "print(result)\n"
   ]
  },
  {
   "cell_type": "code",
   "execution_count": 2,
   "id": "023f9233",
   "metadata": {},
   "outputs": [
    {
     "name": "stdout",
     "output_type": "stream",
     "text": [
      "world Hello\n"
     ]
    }
   ],
   "source": [
    "class Solution:\n",
    "    def reverseWords(self, s: str) -> str:\n",
    "        t=s.strip().split(\" \")\n",
    "        p=\"\"\n",
    "        s=\" \"\n",
    "        for i in range(len(t)-1,0,-1):\n",
    "            if t[i]==\"\":\n",
    "                continue\n",
    "            else:\n",
    "                p+=(t[i]+s)\n",
    "        p+=t[0]\n",
    "        return p\n",
    "    \n",
    "# Create an instance of the Solution class\n",
    "solution_instance = Solution()\n",
    "\n",
    "# Call the reverseWords method on the instance\n",
    "result = solution_instance.reverseWords(\"Hello world\")\n",
    "\n",
    "# Print the result\n",
    "print(result)\n"
   ]
  },
  {
   "cell_type": "code",
   "execution_count": null,
   "id": "c5318467",
   "metadata": {},
   "outputs": [],
   "source": []
  }
 ],
 "metadata": {
  "kernelspec": {
   "display_name": "Python 3 (ipykernel)",
   "language": "python",
   "name": "python3"
  },
  "language_info": {
   "codemirror_mode": {
    "name": "ipython",
    "version": 3
   },
   "file_extension": ".py",
   "mimetype": "text/x-python",
   "name": "python",
   "nbconvert_exporter": "python",
   "pygments_lexer": "ipython3",
   "version": "3.11.4"
  }
 },
 "nbformat": 4,
 "nbformat_minor": 5
}
