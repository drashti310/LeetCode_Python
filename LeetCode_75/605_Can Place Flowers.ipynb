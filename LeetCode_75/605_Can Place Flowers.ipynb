{
 "cells": [
  {
   "cell_type": "code",
   "execution_count": null,
   "id": "77dd86b1",
   "metadata": {},
   "outputs": [],
   "source": [
    "class Solution:\n",
    "    def canPlaceFlowers(self, flowerbed: List[int], n: int) -> bool:\n",
    "        if n == 0:\n",
    "            return True\n",
    "        for i in range(len(flowerbed)):\n",
    "            if flowerbed[i]==0 and (i==0 or flowerbed[i-1]==0):\n",
    "                if(i== len(flowerbed)-1 or flowerbed[i+1]==0):\n",
    "                    flowerbed[i]=1\n",
    "                    n=n-1\n",
    "                    if n==0:\n",
    "                        return True\n",
    "        return False\n",
    "     \n",
    "solution = Solution()\n",
    "flowerbed = [1,0,0,0,1]\n",
    "n = 1\n",
    "result = solution.canPlaceFlowers(flowerbed, n)\n",
    "print(result)  # Output: True"
   ]
  },
  {
   "cell_type": "code",
   "execution_count": null,
   "id": "ec6dcd55",
   "metadata": {},
   "outputs": [],
   "source": []
  }
 ],
 "metadata": {
  "kernelspec": {
   "display_name": "Python 3 (ipykernel)",
   "language": "python",
   "name": "python3"
  },
  "language_info": {
   "codemirror_mode": {
    "name": "ipython",
    "version": 3
   },
   "file_extension": ".py",
   "mimetype": "text/x-python",
   "name": "python",
   "nbconvert_exporter": "python",
   "pygments_lexer": "ipython3",
   "version": "3.11.4"
  }
 },
 "nbformat": 4,
 "nbformat_minor": 5
}
